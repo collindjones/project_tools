{
 "cells": [
  {
   "cell_type": "markdown",
   "id": "e99fb767-fe85-46de-beca-c4effe6cd9ce",
   "metadata": {},
   "source": [
    "# Example Report Plotting Yield Curve"
   ]
  },
  {
   "cell_type": "code",
   "execution_count": 94,
   "id": "71239d9b-eb0b-4975-bcc6-20984fbd16ab",
   "metadata": {},
   "outputs": [],
   "source": [
    "import importlib"
   ]
  },
  {
   "cell_type": "code",
   "execution_count": 151,
   "id": "439f7d29-ac22-482a-98b7-9bc809582572",
   "metadata": {},
   "outputs": [],
   "source": [
    "import sys\n",
    "sys.path.insert(0, '../')\n",
    "from project_tools import pullers\n",
    "from stdnum import cusip\n",
    "import pandas as pd\n",
    "from project_tools import plots"
   ]
  },
  {
   "cell_type": "code",
   "execution_count": 165,
   "id": "f45e76f1-b696-40a5-8d2c-3a3695ea842e",
   "metadata": {},
   "outputs": [
    {
     "data": {
      "text/plain": [
       "<module 'project_tools.plots' from '/Users/collin/dev/test_repo/reports/../project_tools/plots.py'>"
      ]
     },
     "execution_count": 165,
     "metadata": {},
     "output_type": "execute_result"
    }
   ],
   "source": [
    "importlib.reload(plots)"
   ]
  },
  {
   "cell_type": "markdown",
   "id": "a38d2b78-dd3f-44a4-9c01-76ab047de124",
   "metadata": {},
   "source": [
    "## Pull bond info and yields from WRDS"
   ]
  },
  {
   "cell_type": "code",
   "execution_count": 97,
   "id": "eff3ecc7-5594-47d3-800e-0db70c679e4a",
   "metadata": {},
   "outputs": [],
   "source": [
    "sql = \"\"\"\n",
    "WITH yld AS (SELECT caldt, tdnomprc, tdyld, tdduratn, kycrspid FROM crsp_m_treasuries.tfz_dly WHERE caldt = DATE('2025-01-15')), \n",
    "info as (SELECT tmatdt, kycrspid,tcusip FROM crsp_m_treasuries.tfz_iss) \n",
    "SELECT yld.*, info.* FROM yld \n",
    "LEFT JOIN info ON yld.kycrspid=info.kycrspid\n",
    "\"\"\""
   ]
  },
  {
   "cell_type": "code",
   "execution_count": 98,
   "id": "ea7d049c-148e-41bd-bfc0-5480350d557b",
   "metadata": {},
   "outputs": [
    {
     "name": "stdout",
     "output_type": "stream",
     "text": [
      "Loading library list...\n",
      "Done\n"
     ]
    }
   ],
   "source": [
    "df_joined = pullers.pull_WRDS(sql = sql)"
   ]
  },
  {
   "cell_type": "code",
   "execution_count": 99,
   "id": "067e357c-b717-4ebe-a948-53bfb09e3b95",
   "metadata": {},
   "outputs": [
    {
     "data": {
      "text/html": [
       "<div>\n",
       "<style scoped>\n",
       "    .dataframe tbody tr th:only-of-type {\n",
       "        vertical-align: middle;\n",
       "    }\n",
       "\n",
       "    .dataframe tbody tr th {\n",
       "        vertical-align: top;\n",
       "    }\n",
       "\n",
       "    .dataframe thead th {\n",
       "        text-align: right;\n",
       "    }\n",
       "</style>\n",
       "<table border=\"1\" class=\"dataframe\">\n",
       "  <thead>\n",
       "    <tr style=\"text-align: right;\">\n",
       "      <th></th>\n",
       "      <th>caldt</th>\n",
       "      <th>tdnomprc</th>\n",
       "      <th>tdyld</th>\n",
       "      <th>tdduratn</th>\n",
       "      <th>kycrspid</th>\n",
       "      <th>tmatdt</th>\n",
       "      <th>kycrspid</th>\n",
       "      <th>tcusip</th>\n",
       "    </tr>\n",
       "  </thead>\n",
       "  <tbody>\n",
       "    <tr>\n",
       "      <th>0</th>\n",
       "      <td>2025-01-15</td>\n",
       "      <td>101.72455</td>\n",
       "      <td>0.000105</td>\n",
       "      <td>206.070139</td>\n",
       "      <td>20250815.106870</td>\n",
       "      <td>2025-08-15</td>\n",
       "      <td>20250815.106870</td>\n",
       "      <td>912810EV</td>\n",
       "    </tr>\n",
       "    <tr>\n",
       "      <th>1</th>\n",
       "      <td>2025-01-15</td>\n",
       "      <td>94.753906</td>\n",
       "      <td>0.000132</td>\n",
       "      <td>4059.339151</td>\n",
       "      <td>20400515.104370</td>\n",
       "      <td>2040-05-15</td>\n",
       "      <td>20400515.104370</td>\n",
       "      <td>912810QH</td>\n",
       "    </tr>\n",
       "    <tr>\n",
       "      <th>2</th>\n",
       "      <td>2025-01-15</td>\n",
       "      <td>79.328125</td>\n",
       "      <td>0.000133</td>\n",
       "      <td>4604.602324</td>\n",
       "      <td>20420215.103120</td>\n",
       "      <td>2042-02-15</td>\n",
       "      <td>20420215.103120</td>\n",
       "      <td>912810QU</td>\n",
       "    </tr>\n",
       "    <tr>\n",
       "      <th>3</th>\n",
       "      <td>2025-01-15</td>\n",
       "      <td>73.037798</td>\n",
       "      <td>&lt;NA&gt;</td>\n",
       "      <td>&lt;NA&gt;</td>\n",
       "      <td>20430215.B00620</td>\n",
       "      <td>2043-02-15</td>\n",
       "      <td>20430215.B00620</td>\n",
       "      <td>912810RA</td>\n",
       "    </tr>\n",
       "    <tr>\n",
       "      <th>4</th>\n",
       "      <td>2025-01-15</td>\n",
       "      <td>83.929688</td>\n",
       "      <td>0.000134</td>\n",
       "      <td>4718.944639</td>\n",
       "      <td>20430815.103620</td>\n",
       "      <td>2043-08-15</td>\n",
       "      <td>20430815.103620</td>\n",
       "      <td>912810RC</td>\n",
       "    </tr>\n",
       "  </tbody>\n",
       "</table>\n",
       "</div>"
      ],
      "text/plain": [
       "        caldt   tdnomprc     tdyld     tdduratn         kycrspid      tmatdt  \\\n",
       "0  2025-01-15  101.72455  0.000105   206.070139  20250815.106870  2025-08-15   \n",
       "1  2025-01-15  94.753906  0.000132  4059.339151  20400515.104370  2040-05-15   \n",
       "2  2025-01-15  79.328125  0.000133  4604.602324  20420215.103120  2042-02-15   \n",
       "3  2025-01-15  73.037798      <NA>         <NA>  20430215.B00620  2043-02-15   \n",
       "4  2025-01-15  83.929688  0.000134  4718.944639  20430815.103620  2043-08-15   \n",
       "\n",
       "          kycrspid    tcusip  \n",
       "0  20250815.106870  912810EV  \n",
       "1  20400515.104370  912810QH  \n",
       "2  20420215.103120  912810QU  \n",
       "3  20430215.B00620  912810RA  \n",
       "4  20430815.103620  912810RC  "
      ]
     },
     "execution_count": 99,
     "metadata": {},
     "output_type": "execute_result"
    }
   ],
   "source": [
    "df_joined.head()"
   ]
  },
  {
   "cell_type": "markdown",
   "id": "5b70b023-b4cc-46e9-af74-09f501ee18d3",
   "metadata": {},
   "source": [
    "## Compile CUSIPs to get auction data for"
   ]
  },
  {
   "cell_type": "code",
   "execution_count": 100,
   "id": "b90071b5-ae7a-4593-9d40-128e60e3d20d",
   "metadata": {},
   "outputs": [],
   "source": [
    "df_joined['cusip9'] = df_joined['tcusip'].apply(lambda x: x + cusip.calc_check_digit(x))"
   ]
  },
  {
   "cell_type": "code",
   "execution_count": 101,
   "id": "612ca187-1872-48ef-b3bd-4e583ec2dce6",
   "metadata": {},
   "outputs": [
    {
     "data": {
      "text/html": [
       "<div>\n",
       "<style scoped>\n",
       "    .dataframe tbody tr th:only-of-type {\n",
       "        vertical-align: middle;\n",
       "    }\n",
       "\n",
       "    .dataframe tbody tr th {\n",
       "        vertical-align: top;\n",
       "    }\n",
       "\n",
       "    .dataframe thead th {\n",
       "        text-align: right;\n",
       "    }\n",
       "</style>\n",
       "<table border=\"1\" class=\"dataframe\">\n",
       "  <thead>\n",
       "    <tr style=\"text-align: right;\">\n",
       "      <th></th>\n",
       "      <th>caldt</th>\n",
       "      <th>tdnomprc</th>\n",
       "      <th>tdyld</th>\n",
       "      <th>tdduratn</th>\n",
       "      <th>kycrspid</th>\n",
       "      <th>tmatdt</th>\n",
       "      <th>kycrspid</th>\n",
       "      <th>tcusip</th>\n",
       "      <th>cusip9</th>\n",
       "    </tr>\n",
       "  </thead>\n",
       "  <tbody>\n",
       "    <tr>\n",
       "      <th>0</th>\n",
       "      <td>2025-01-15</td>\n",
       "      <td>101.72455</td>\n",
       "      <td>0.000105</td>\n",
       "      <td>206.070139</td>\n",
       "      <td>20250815.106870</td>\n",
       "      <td>2025-08-15</td>\n",
       "      <td>20250815.106870</td>\n",
       "      <td>912810EV</td>\n",
       "      <td>912810EV6</td>\n",
       "    </tr>\n",
       "    <tr>\n",
       "      <th>1</th>\n",
       "      <td>2025-01-15</td>\n",
       "      <td>94.753906</td>\n",
       "      <td>0.000132</td>\n",
       "      <td>4059.339151</td>\n",
       "      <td>20400515.104370</td>\n",
       "      <td>2040-05-15</td>\n",
       "      <td>20400515.104370</td>\n",
       "      <td>912810QH</td>\n",
       "      <td>912810QH4</td>\n",
       "    </tr>\n",
       "    <tr>\n",
       "      <th>2</th>\n",
       "      <td>2025-01-15</td>\n",
       "      <td>79.328125</td>\n",
       "      <td>0.000133</td>\n",
       "      <td>4604.602324</td>\n",
       "      <td>20420215.103120</td>\n",
       "      <td>2042-02-15</td>\n",
       "      <td>20420215.103120</td>\n",
       "      <td>912810QU</td>\n",
       "      <td>912810QU5</td>\n",
       "    </tr>\n",
       "    <tr>\n",
       "      <th>3</th>\n",
       "      <td>2025-01-15</td>\n",
       "      <td>73.037798</td>\n",
       "      <td>&lt;NA&gt;</td>\n",
       "      <td>&lt;NA&gt;</td>\n",
       "      <td>20430215.B00620</td>\n",
       "      <td>2043-02-15</td>\n",
       "      <td>20430215.B00620</td>\n",
       "      <td>912810RA</td>\n",
       "      <td>912810RA8</td>\n",
       "    </tr>\n",
       "    <tr>\n",
       "      <th>4</th>\n",
       "      <td>2025-01-15</td>\n",
       "      <td>83.929688</td>\n",
       "      <td>0.000134</td>\n",
       "      <td>4718.944639</td>\n",
       "      <td>20430815.103620</td>\n",
       "      <td>2043-08-15</td>\n",
       "      <td>20430815.103620</td>\n",
       "      <td>912810RC</td>\n",
       "      <td>912810RC4</td>\n",
       "    </tr>\n",
       "  </tbody>\n",
       "</table>\n",
       "</div>"
      ],
      "text/plain": [
       "        caldt   tdnomprc     tdyld     tdduratn         kycrspid      tmatdt  \\\n",
       "0  2025-01-15  101.72455  0.000105   206.070139  20250815.106870  2025-08-15   \n",
       "1  2025-01-15  94.753906  0.000132  4059.339151  20400515.104370  2040-05-15   \n",
       "2  2025-01-15  79.328125  0.000133  4604.602324  20420215.103120  2042-02-15   \n",
       "3  2025-01-15  73.037798      <NA>         <NA>  20430215.B00620  2043-02-15   \n",
       "4  2025-01-15  83.929688  0.000134  4718.944639  20430815.103620  2043-08-15   \n",
       "\n",
       "          kycrspid    tcusip     cusip9  \n",
       "0  20250815.106870  912810EV  912810EV6  \n",
       "1  20400515.104370  912810QH  912810QH4  \n",
       "2  20420215.103120  912810QU  912810QU5  \n",
       "3  20430215.B00620  912810RA  912810RA8  \n",
       "4  20430815.103620  912810RC  912810RC4  "
      ]
     },
     "execution_count": 101,
     "metadata": {},
     "output_type": "execute_result"
    }
   ],
   "source": [
    "df_joined.head()"
   ]
  },
  {
   "cell_type": "markdown",
   "id": "7826d80d-0a10-475c-824a-c23ff1699a97",
   "metadata": {},
   "source": [
    "## Pull auction data for this CUSIPs"
   ]
  },
  {
   "cell_type": "code",
   "execution_count": 167,
   "id": "68fc882a-b76f-45ca-82de-377726a8151a",
   "metadata": {},
   "outputs": [],
   "source": [
    "auctions = pullers.pull_TreasuryDirect_Auctions(cusips = df_joined['cusip9'].tolist())"
   ]
  },
  {
   "cell_type": "code",
   "execution_count": 103,
   "id": "9bb97b58-944e-4997-b771-3e89f5452e1d",
   "metadata": {},
   "outputs": [
    {
     "data": {
      "text/html": [
       "<div>\n",
       "<style scoped>\n",
       "    .dataframe tbody tr th:only-of-type {\n",
       "        vertical-align: middle;\n",
       "    }\n",
       "\n",
       "    .dataframe tbody tr th {\n",
       "        vertical-align: top;\n",
       "    }\n",
       "\n",
       "    .dataframe thead th {\n",
       "        text-align: right;\n",
       "    }\n",
       "</style>\n",
       "<table border=\"1\" class=\"dataframe\">\n",
       "  <thead>\n",
       "    <tr style=\"text-align: right;\">\n",
       "      <th></th>\n",
       "      <th>cusip</th>\n",
       "      <th>issueDate</th>\n",
       "      <th>maturityDate</th>\n",
       "      <th>type</th>\n",
       "      <th>originalSecurityTerm</th>\n",
       "    </tr>\n",
       "  </thead>\n",
       "  <tbody>\n",
       "    <tr>\n",
       "      <th>0</th>\n",
       "      <td>912797JR9</td>\n",
       "      <td>2024-12-12</td>\n",
       "      <td>2025-01-23</td>\n",
       "      <td>CMB</td>\n",
       "      <td>52-Week</td>\n",
       "    </tr>\n",
       "    <tr>\n",
       "      <th>1</th>\n",
       "      <td>912797KA4</td>\n",
       "      <td>2025-01-09</td>\n",
       "      <td>2025-02-20</td>\n",
       "      <td>CMB</td>\n",
       "      <td>52-Week</td>\n",
       "    </tr>\n",
       "    <tr>\n",
       "      <th>2</th>\n",
       "      <td>912797KJ5</td>\n",
       "      <td>2025-02-06</td>\n",
       "      <td>2025-03-20</td>\n",
       "      <td>CMB</td>\n",
       "      <td>52-Week</td>\n",
       "    </tr>\n",
       "    <tr>\n",
       "      <th>3</th>\n",
       "      <td>912797KS5</td>\n",
       "      <td>2025-03-06</td>\n",
       "      <td>2025-04-17</td>\n",
       "      <td>Bill</td>\n",
       "      <td>52-Week</td>\n",
       "    </tr>\n",
       "    <tr>\n",
       "      <th>4</th>\n",
       "      <td>912797LB1</td>\n",
       "      <td>2025-02-13</td>\n",
       "      <td>2025-05-15</td>\n",
       "      <td>Bill</td>\n",
       "      <td>52-Week</td>\n",
       "    </tr>\n",
       "  </tbody>\n",
       "</table>\n",
       "</div>"
      ],
      "text/plain": [
       "       cusip  issueDate maturityDate  type originalSecurityTerm\n",
       "0  912797JR9 2024-12-12   2025-01-23   CMB              52-Week\n",
       "1  912797KA4 2025-01-09   2025-02-20   CMB              52-Week\n",
       "2  912797KJ5 2025-02-06   2025-03-20   CMB              52-Week\n",
       "3  912797KS5 2025-03-06   2025-04-17  Bill              52-Week\n",
       "4  912797LB1 2025-02-13   2025-05-15  Bill              52-Week"
      ]
     },
     "metadata": {},
     "output_type": "display_data"
    }
   ],
   "source": [
    "auctions_keep = auctions.groupby('cusip')[['issueDate', 'maturityDate', 'type', 'originalSecurityTerm']].first().reset_index()\n",
    "display(auctions_keep.head())"
   ]
  },
  {
   "cell_type": "markdown",
   "id": "33048b90-7031-44be-aa21-d6a7077d9af8",
   "metadata": {},
   "source": [
    "## Join with the CRSP data, and compile some derived stats"
   ]
  },
  {
   "cell_type": "code",
   "execution_count": 104,
   "id": "971fdbf7-3989-4152-835f-c42b07c26730",
   "metadata": {},
   "outputs": [],
   "source": [
    "df_joined_sample = pd.merge(df_joined, auctions_keep, left_on='cusip9', right_on='cusip', validate='1:1', how='inner')"
   ]
  },
  {
   "cell_type": "code",
   "execution_count": 105,
   "id": "f82fba46-cb33-4d16-979c-bdb0b87f04a8",
   "metadata": {},
   "outputs": [],
   "source": [
    "df_joined_sample['caldt'] = pd.to_datetime(df_joined_sample['caldt'])"
   ]
  },
  {
   "cell_type": "code",
   "execution_count": 127,
   "id": "24a112a3-404d-4496-af57-c3f8c481fc6c",
   "metadata": {},
   "outputs": [
    {
     "data": {
      "text/html": [
       "<div>\n",
       "<style scoped>\n",
       "    .dataframe tbody tr th:only-of-type {\n",
       "        vertical-align: middle;\n",
       "    }\n",
       "\n",
       "    .dataframe tbody tr th {\n",
       "        vertical-align: top;\n",
       "    }\n",
       "\n",
       "    .dataframe thead th {\n",
       "        text-align: right;\n",
       "    }\n",
       "</style>\n",
       "<table border=\"1\" class=\"dataframe\">\n",
       "  <thead>\n",
       "    <tr style=\"text-align: right;\">\n",
       "      <th></th>\n",
       "      <th>caldt</th>\n",
       "      <th>tdnomprc</th>\n",
       "      <th>tdyld</th>\n",
       "      <th>tdduratn</th>\n",
       "      <th>kycrspid</th>\n",
       "      <th>tmatdt</th>\n",
       "      <th>kycrspid</th>\n",
       "      <th>tcusip</th>\n",
       "      <th>cusip9</th>\n",
       "      <th>cusip</th>\n",
       "      <th>issueDate</th>\n",
       "      <th>maturityDate</th>\n",
       "      <th>type</th>\n",
       "      <th>originalSecurityTerm</th>\n",
       "      <th>till_mat</th>\n",
       "      <th>yld</th>\n",
       "      <th>dv01</th>\n",
       "    </tr>\n",
       "  </thead>\n",
       "  <tbody>\n",
       "    <tr>\n",
       "      <th>0</th>\n",
       "      <td>2025-01-15</td>\n",
       "      <td>101.72455</td>\n",
       "      <td>0.000105</td>\n",
       "      <td>206.070139</td>\n",
       "      <td>20250815.106870</td>\n",
       "      <td>2025-08-15</td>\n",
       "      <td>20250815.106870</td>\n",
       "      <td>912810EV</td>\n",
       "      <td>912810EV6</td>\n",
       "      <td>912810EV6</td>\n",
       "      <td>1995-08-15</td>\n",
       "      <td>2025-08-15</td>\n",
       "      <td>Bond</td>\n",
       "      <td>30-Year</td>\n",
       "      <td>0.580822</td>\n",
       "      <td>3.839007</td>\n",
       "      <td>0.005635</td>\n",
       "    </tr>\n",
       "    <tr>\n",
       "      <th>1</th>\n",
       "      <td>2025-01-15</td>\n",
       "      <td>94.753906</td>\n",
       "      <td>0.000132</td>\n",
       "      <td>4059.339151</td>\n",
       "      <td>20400515.104370</td>\n",
       "      <td>2040-05-15</td>\n",
       "      <td>20400515.104370</td>\n",
       "      <td>912810QH</td>\n",
       "      <td>912810QH4</td>\n",
       "      <td>912810QH4</td>\n",
       "      <td>2010-07-15</td>\n",
       "      <td>2040-05-15</td>\n",
       "      <td>Bond</td>\n",
       "      <td>30-Year</td>\n",
       "      <td>15.339726</td>\n",
       "      <td>4.803207</td>\n",
       "      <td>0.102909</td>\n",
       "    </tr>\n",
       "    <tr>\n",
       "      <th>2</th>\n",
       "      <td>2025-01-15</td>\n",
       "      <td>79.328125</td>\n",
       "      <td>0.000133</td>\n",
       "      <td>4604.602324</td>\n",
       "      <td>20420215.103120</td>\n",
       "      <td>2042-02-15</td>\n",
       "      <td>20420215.103120</td>\n",
       "      <td>912810QU</td>\n",
       "      <td>912810QU5</td>\n",
       "      <td>912810QU5</td>\n",
       "      <td>2012-04-16</td>\n",
       "      <td>2042-02-15</td>\n",
       "      <td>Bond</td>\n",
       "      <td>30-Year</td>\n",
       "      <td>17.095890</td>\n",
       "      <td>4.866197</td>\n",
       "      <td>0.097698</td>\n",
       "    </tr>\n",
       "    <tr>\n",
       "      <th>3</th>\n",
       "      <td>2025-01-15</td>\n",
       "      <td>73.037798</td>\n",
       "      <td>&lt;NA&gt;</td>\n",
       "      <td>&lt;NA&gt;</td>\n",
       "      <td>20430215.B00620</td>\n",
       "      <td>2043-02-15</td>\n",
       "      <td>20430215.B00620</td>\n",
       "      <td>912810RA</td>\n",
       "      <td>912810RA8</td>\n",
       "      <td>912810RA8</td>\n",
       "      <td>2013-10-31</td>\n",
       "      <td>2043-02-15</td>\n",
       "      <td>TIPS</td>\n",
       "      <td>30-Year</td>\n",
       "      <td>18.095890</td>\n",
       "      <td>&lt;NA&gt;</td>\n",
       "      <td>&lt;NA&gt;</td>\n",
       "    </tr>\n",
       "    <tr>\n",
       "      <th>4</th>\n",
       "      <td>2025-01-15</td>\n",
       "      <td>83.929688</td>\n",
       "      <td>0.000134</td>\n",
       "      <td>4718.944639</td>\n",
       "      <td>20430815.103620</td>\n",
       "      <td>2043-08-15</td>\n",
       "      <td>20430815.103620</td>\n",
       "      <td>912810RC</td>\n",
       "      <td>912810RC4</td>\n",
       "      <td>912810RC4</td>\n",
       "      <td>2013-10-15</td>\n",
       "      <td>2043-08-15</td>\n",
       "      <td>Bond</td>\n",
       "      <td>30-Year</td>\n",
       "      <td>18.591781</td>\n",
       "      <td>4.895717</td>\n",
       "      <td>0.105917</td>\n",
       "    </tr>\n",
       "  </tbody>\n",
       "</table>\n",
       "</div>"
      ],
      "text/plain": [
       "       caldt   tdnomprc     tdyld     tdduratn         kycrspid      tmatdt  \\\n",
       "0 2025-01-15  101.72455  0.000105   206.070139  20250815.106870  2025-08-15   \n",
       "1 2025-01-15  94.753906  0.000132  4059.339151  20400515.104370  2040-05-15   \n",
       "2 2025-01-15  79.328125  0.000133  4604.602324  20420215.103120  2042-02-15   \n",
       "3 2025-01-15  73.037798      <NA>         <NA>  20430215.B00620  2043-02-15   \n",
       "4 2025-01-15  83.929688  0.000134  4718.944639  20430815.103620  2043-08-15   \n",
       "\n",
       "          kycrspid    tcusip     cusip9      cusip  issueDate maturityDate  \\\n",
       "0  20250815.106870  912810EV  912810EV6  912810EV6 1995-08-15   2025-08-15   \n",
       "1  20400515.104370  912810QH  912810QH4  912810QH4 2010-07-15   2040-05-15   \n",
       "2  20420215.103120  912810QU  912810QU5  912810QU5 2012-04-16   2042-02-15   \n",
       "3  20430215.B00620  912810RA  912810RA8  912810RA8 2013-10-31   2043-02-15   \n",
       "4  20430815.103620  912810RC  912810RC4  912810RC4 2013-10-15   2043-08-15   \n",
       "\n",
       "   type originalSecurityTerm   till_mat       yld      dv01  \n",
       "0  Bond              30-Year   0.580822  3.839007  0.005635  \n",
       "1  Bond              30-Year  15.339726  4.803207  0.102909  \n",
       "2  Bond              30-Year  17.095890  4.866197  0.097698  \n",
       "3  TIPS              30-Year  18.095890      <NA>      <NA>  \n",
       "4  Bond              30-Year  18.591781  4.895717  0.105917  "
      ]
     },
     "metadata": {},
     "output_type": "display_data"
    }
   ],
   "source": [
    "df_joined_sample['till_mat'] = (df_joined_sample['maturityDate'] - df_joined_sample['caldt']).dt.days / 365\n",
    "df_joined_sample['yld'] = df_joined_sample['tdyld'] * 100 * 365\n",
    "df_joined_sample['dv01'] = (df_joined_sample['tdduratn'] / 365 * df_joined_sample['tdnomprc']/10000) / (1 + df_joined_sample['tdyld'] * 365 / 2)\n",
    "display(df_joined_sample.head())"
   ]
  },
  {
   "cell_type": "markdown",
   "id": "362bfb33-2f49-49ae-8b2f-cfd6917c4a28",
   "metadata": {},
   "source": [
    "## Plot!"
   ]
  },
  {
   "cell_type": "code",
   "execution_count": 166,
   "id": "4499fc4f-30ca-456d-abe2-a16cc96fb778",
   "metadata": {},
   "outputs": [
    {
     "data": {
      "image/png": "[encoded data removed]",
      "text/plain": [
       "<Figure size 1500x1000 with 1 Axes>"
      ]
     },
     "metadata": {},
     "output_type": "display_data"
    }
   ],
   "source": [
    "plots.plot_termstructure(df_joined_sample.loc[df_joined_sample['till_mat'] > 0.01, :], \\\n",
    "                         y=['yld'], dts_plot=['2025-01-15'], mat='till_mat', dt='caldt', \\\n",
    "                         term_sep=[('type','Bill'), \\\n",
    "                                   ('originalSecurityTerm','20-Year'), \\\n",
    "                                  ('originalSecurityTerm', '30-Year')], \\\n",
    "                        output=Path('/Users/collin/dev/test_repo/_output'), name = 'yld_20250115')"
   ]
  }
 ],
 "metadata": {
  "kernelspec": {
   "display_name": "Python 3 (ipykernel)",
   "language": "python",
   "name": "python3"
  },
  "language_info": {
   "codemirror_mode": {
    "name": "ipython",
    "version": 3
   },
   "file_extension": ".py",
   "mimetype": "text/x-python",
   "name": "python",
   "nbconvert_exporter": "python",
   "pygments_lexer": "ipython3",
   "version": "3.13.2"
  }
 },
 "nbformat": 4,
 "nbformat_minor": 5
}
