{
 "cells": [
  {
   "cell_type": "markdown",
   "id": "42388d55-eaa0-4ba7-bf0c-5ae25d101a0f",
   "metadata": {},
   "source": [
    "# Example Report\n",
    "\n",
    "Stuff like this!"
   ]
  },
  {
   "cell_type": "code",
   "execution_count": null,
   "id": "1af5e5ae-3d45-4134-8d99-7bfae16d9b24",
   "metadata": {},
   "outputs": [],
   "source": [
    "import sys\n",
    "import os\n",
    "import pandas as pd\n",
    "import numpy as np\n",
    "parent_dir = os.path.abspath('..')  # Get the absolute path of the parent directory\n",
    "sys.path.append(parent_dir)  # Add it to the Python path\n",
    "\n",
    "import project_tools.pullers\n",
    "import project_tools.plots\n",
    "ix = pd.IndexSlice"
   ]
  },
  {
   "cell_type": "code",
   "execution_count": null,
   "id": "ddd76418-0bb4-4929-9655-b51c38801ab4",
   "metadata": {},
   "outputs": [],
   "source": [
    "df = project_tools.pullers.pull_fred(['DFF', 'RRPONTSYD'])"
   ]
  },
  {
   "cell_type": "code",
   "execution_count": null,
   "id": "c836de58-82ca-43ae-8600-977a00921008",
   "metadata": {},
   "outputs": [],
   "source": [
    "df.head()"
   ]
  },
  {
   "cell_type": "code",
   "execution_count": null,
   "id": "9fc4b6b4-2dd5-44cf-934a-d80b700ca9d0",
   "metadata": {},
   "outputs": [],
   "source": [
    "df['date'] = df.index\n",
    "df = df.loc[ix['2015':], :]\n",
    "df = df.loc[~pd.isnull(df['RRPONTSYD']), :]\n",
    "q_end = df['date'].dt.quarter != df['date'].dt.quarter.shift(-1)\n",
    "df['DFF_qend'] = df['DFF']\n",
    "df['RRPONTSYD_qend'] = df['RRPONTSYD']\n",
    "df.loc[~q_end, ['DFF_qend', 'RRPONTSYD_qend']] = np.nan"
   ]
  },
  {
   "cell_type": "code",
   "execution_count": null,
   "id": "ce5a0781-bdc6-437c-81d5-7db59664f6ed",
   "metadata": {},
   "outputs": [],
   "source": [
    "project_tools.plots.plot(['DFF', 'RRPONTSYD', 'DFF_qend', 'RRPONTSYD_qend'], 'date', data=df, \\\n",
    "                         yaxis2=['RRPONTSYD', 'RRPONTSYD_qend'], name='', \\\n",
    "                        to_scatter=['DFF_qend', 'RRPONTSYD_qend'], labels = ['DFF', 'ONRRP Vol', 'DFF (Q end)', 'ONRRP Vol (Q end)'])"
   ]
  }
 ],
 "metadata": {
  "kernelspec": {
   "display_name": "Python 3 (ipykernel)",
   "language": "python",
   "name": "python3"
  },
  "language_info": {
   "codemirror_mode": {
    "name": "ipython",
    "version": 3
   },
   "file_extension": ".py",
   "mimetype": "text/x-python",
   "name": "python",
   "nbconvert_exporter": "python",
   "pygments_lexer": "ipython3",
   "version": "3.13.2"
  }
 },
 "nbformat": 4,
 "nbformat_minor": 5
}
